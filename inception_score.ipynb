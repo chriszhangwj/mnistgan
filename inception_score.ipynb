{
  "nbformat": 4,
  "nbformat_minor": 0,
  "metadata": {
    "colab": {
      "name": "inception score.ipynb",
      "version": "0.3.2",
      "provenance": []
    },
    "kernelspec": {
      "name": "python3",
      "display_name": "Python 3"
    }
  },
  "cells": [
    {
      "metadata": {
        "id": "qFWiKE9AZ2Iv",
        "colab_type": "code",
        "colab": {}
      },
      "cell_type": "code",
      "source": [
        "import os, glob\n",
        "import glob\n",
        "import numpy as np\n",
        "from keras.applications.inception_v3 import InceptionV3, preprocess_input\n",
        "from keras.applications.imagenet_utils import decode_predictions\n",
        "from keras.preprocessing import image\n",
        "from keras.datasets import mnist\n",
        "from PIL import Image as pil_image\n",
        "\n",
        "model = InceptionV3() # Load a model and its weights\n",
        "\n",
        "def resize_mnist(x):\n",
        "    x_list = []\n",
        "    for i in range(x.shape[0]):\n",
        "        img = image.array_to_img(x[i, :, :, :].reshape(28, 28, -1))\n",
        "        #img.save(\"mnist-{0:03d}.png\".format(i))\n",
        "        img = img.resize(size=(299, 299), resample=pil_image.LANCZOS)\n",
        "        x_list.append(image.img_to_array(img))\n",
        "    return np.array(x_list)\n",
        "\n",
        "def resize_do_nothing(x):\n",
        "    return x\n",
        "\n",
        "def inception_score(x, resizer, batch_size=32,splits=10):\n",
        "    r = None\n",
        "    n_batch = (x.shape[0]+batch_size-1) // batch_size\n",
        "    for j in range(n_batch):\n",
        "        x_batch = resizer(x[j*batch_size:(j+1)*batch_size, :, :, :])\n",
        "        r_batch = model.predict(preprocess_input(x_batch)) # r has the probabilities for all classes\n",
        "        r = r_batch if r is None else np.concatenate([r, r_batch], axis=0) # r is N*1\n",
        "    scores = []\n",
        "    for i in range(splits):\n",
        "      print('computing IS for split ', splits)\n",
        "      part_y = r[(i * r.shape[0] // splits):((i + 1) * r.shape[0] // splits), :]\n",
        "      p_y = np.mean(part_y, axis=0) # p(y)\n",
        "      e = part_y*np.log(part_y/p_y) # p(y|x)log(P(y|x)/P(y))\n",
        "      e = np.sum(e, axis=1) # KL(x) = Σ_y p(y|x)log(P(y|x)/P(y))\n",
        "      e = np.mean(e, axis=0)\n",
        "      scores.append(np.exp(e))\n",
        "    \n",
        "    return np.mean(scores), np.std(scores) # Inception score\n",
        "\n",
        "def mnist_inception_score(n_train):\n",
        "    (x_train, y_train), (x_val, y_val) = mnist.load_data()\n",
        "    x_train = np.expand_dims(x_train, axis=3) # shape=(60000, 28, 28) --> (60000, 28, 28, 1)\n",
        "    x_train = np.tile(x_train, (1, 1, 1, 3)) # shape=(60000, 28, 28, 1) --> (60000, 28, 28, 3)\n",
        "    return inception_score(x_train[0:n_train, :, :, :], resize_mnist)\n",
        "\n",
        "print(\"Inception score (MNIST, 32):\", mnist_inception_score(600))"
      ],
      "execution_count": 0,
      "outputs": []
    }
  ]
}